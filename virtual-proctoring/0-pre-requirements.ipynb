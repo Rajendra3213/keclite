{
 "cells": [
  {
   "cell_type": "markdown",
   "metadata": {},
   "source": [
    "# Virtual Proctoring using Amazon Rekognition\n",
    "\n",
    "These notebook provide a walkthrough of some Amazon Rekognition APIs that are relevant to Virtual Proctoring.\n",
    "\n",
    "In order to start, it's necessary to create a bucket where to host sample images and videos used by each notebook."
   ]
  },
  {
   "cell_type": "code",
   "execution_count": 10,
   "metadata": {
    "scrolled": true
   },
   "outputs": [
    {
     "name": "stdout",
     "output_type": "stream",
     "text": [
      "Requirement already satisfied: pip in ./env/lib/python3.12/site-packages (24.3.1)\n",
      "Requirement already satisfied: botocore in ./env/lib/python3.12/site-packages (1.35.79)\n",
      "Requirement already satisfied: jmespath<2.0.0,>=0.7.1 in ./env/lib/python3.12/site-packages (from botocore) (1.0.1)\n",
      "Requirement already satisfied: python-dateutil<3.0.0,>=2.1 in ./env/lib/python3.12/site-packages (from botocore) (2.9.0.post0)\n",
      "Requirement already satisfied: urllib3!=2.2.0,<3,>=1.25.4 in ./env/lib/python3.12/site-packages (from botocore) (2.2.3)\n",
      "Requirement already satisfied: six>=1.5 in ./env/lib/python3.12/site-packages (from python-dateutil<3.0.0,>=2.1->botocore) (1.17.0)\n",
      "Requirement already satisfied: boto3 in ./env/lib/python3.12/site-packages (1.35.79)\n",
      "Requirement already satisfied: botocore<1.36.0,>=1.35.79 in ./env/lib/python3.12/site-packages (from boto3) (1.35.79)\n",
      "Requirement already satisfied: jmespath<2.0.0,>=0.7.1 in ./env/lib/python3.12/site-packages (from boto3) (1.0.1)\n",
      "Requirement already satisfied: s3transfer<0.11.0,>=0.10.0 in ./env/lib/python3.12/site-packages (from boto3) (0.10.4)\n",
      "Requirement already satisfied: python-dateutil<3.0.0,>=2.1 in ./env/lib/python3.12/site-packages (from botocore<1.36.0,>=1.35.79->boto3) (2.9.0.post0)\n",
      "Requirement already satisfied: urllib3!=2.2.0,<3,>=1.25.4 in ./env/lib/python3.12/site-packages (from botocore<1.36.0,>=1.35.79->boto3) (2.2.3)\n",
      "Requirement already satisfied: six>=1.5 in ./env/lib/python3.12/site-packages (from python-dateutil<3.0.0,>=2.1->botocore<1.36.0,>=1.35.79->boto3) (1.17.0)\n",
      "Requirement already satisfied: IPython in ./env/lib/python3.12/site-packages (8.30.0)\n",
      "Requirement already satisfied: decorator in ./env/lib/python3.12/site-packages (from IPython) (5.1.1)\n",
      "Requirement already satisfied: jedi>=0.16 in ./env/lib/python3.12/site-packages (from IPython) (0.19.2)\n",
      "Requirement already satisfied: matplotlib-inline in ./env/lib/python3.12/site-packages (from IPython) (0.1.7)\n",
      "Requirement already satisfied: pexpect>4.3 in ./env/lib/python3.12/site-packages (from IPython) (4.9.0)\n",
      "Requirement already satisfied: prompt_toolkit<3.1.0,>=3.0.41 in ./env/lib/python3.12/site-packages (from IPython) (3.0.48)\n",
      "Requirement already satisfied: pygments>=2.4.0 in ./env/lib/python3.12/site-packages (from IPython) (2.18.0)\n",
      "Requirement already satisfied: stack_data in ./env/lib/python3.12/site-packages (from IPython) (0.6.3)\n",
      "Requirement already satisfied: traitlets>=5.13.0 in ./env/lib/python3.12/site-packages (from IPython) (5.14.3)\n",
      "Requirement already satisfied: parso<0.9.0,>=0.8.4 in ./env/lib/python3.12/site-packages (from jedi>=0.16->IPython) (0.8.4)\n",
      "Requirement already satisfied: ptyprocess>=0.5 in ./env/lib/python3.12/site-packages (from pexpect>4.3->IPython) (0.7.0)\n",
      "Requirement already satisfied: wcwidth in ./env/lib/python3.12/site-packages (from prompt_toolkit<3.1.0,>=3.0.41->IPython) (0.2.13)\n",
      "Requirement already satisfied: executing>=1.2.0 in ./env/lib/python3.12/site-packages (from stack_data->IPython) (2.1.0)\n",
      "Requirement already satisfied: asttokens>=2.1.0 in ./env/lib/python3.12/site-packages (from stack_data->IPython) (3.0.0)\n",
      "Requirement already satisfied: pure-eval in ./env/lib/python3.12/site-packages (from stack_data->IPython) (0.2.3)\n"
     ]
    }
   ],
   "source": [
    "# First, let's get the latest installations of our dependencies\n",
    "!pip install --upgrade pip\n",
    "!pip install botocore --upgrade\n",
    "!pip install boto3 --upgrade\n",
    "!pip install IPython --upgrade"
   ]
  },
  {
   "cell_type": "code",
   "execution_count": 2,
   "metadata": {},
   "outputs": [
    {
     "name": "stdout",
     "output_type": "stream",
     "text": [
      "Uploading s3://test-images-891377001208/leaving.mp4\n",
      "Uploading s3://test-images-891377001208/objects.mp4\n",
      "Uploading s3://test-images-891377001208/cellphone.jpg\n",
      "Uploading s3://test-images-891377001208/identity.jpg\n",
      "Uploading s3://test-images-891377001208/looking_at_screen.jpg\n",
      "All done.\n"
     ]
    }
   ],
   "source": [
    "import boto3\n",
    "import botocore\n",
    "import os\n",
    "\n",
    "# Initialize session with profile\n",
    "session = boto3.Session(profile_name='aws_keclite')\n",
    "REGION = session.region_name or 'us-east-1'\n",
    "\n",
    "s3 = session.client('s3', region_name=REGION)\n",
    "sts = session.client(\"sts\")\n",
    "\n",
    "# Get account ID\n",
    "account_id = sts.get_caller_identity()[\"Account\"]\n",
    "\n",
    "# Define bucket name\n",
    "bucket_name = f\"test-images-{account_id}\"\n",
    "\n",
    "# Create bucket if it doesn't exist\n",
    "try:\n",
    "    s3.head_bucket(Bucket=bucket_name)\n",
    "except botocore.exceptions.ClientError as e:\n",
    "    error_code = e.response['Error']['Code']\n",
    "    if error_code == '403':\n",
    "        print(\"Private Bucket. Forbidden Access! Ensure the bucket is accessible.\")\n",
    "    elif error_code == '404':\n",
    "        print(f\"Bucket {bucket_name} not found. Creating...\")\n",
    "        if REGION == 'us-east-1':\n",
    "            s3.create_bucket(Bucket=bucket_name)\n",
    "        else:\n",
    "            s3.create_bucket(\n",
    "                Bucket=bucket_name,\n",
    "                CreateBucketConfiguration={'LocationConstraint': REGION}\n",
    "            )\n",
    "\n",
    "# Upload media files\n",
    "media = ['leaving.mp4', 'objects.mp4', 'cellphone.jpg', 'identity.jpg', 'looking_at_screen.jpg']\n",
    "for file in media:\n",
    "    file_name = os.path.join(\"media\", file)\n",
    "    try:\n",
    "        with open(file_name, 'rb') as data:\n",
    "            print(f\"Uploading s3://{bucket_name}/{file}\")\n",
    "            s3.upload_fileobj(data, bucket_name, file)\n",
    "    except FileNotFoundError:\n",
    "        print(f\"File not found: {file_name}\")\n",
    "\n",
    "print(\"All done.\")\n"
   ]
  },
  {
   "cell_type": "markdown",
   "metadata": {},
   "source": [
    "Now you can proceed with the first lab."
   ]
  }
 ],
 "metadata": {
  "kernelspec": {
   "display_name": "env",
   "language": "python",
   "name": "python3"
  },
  "language_info": {
   "codemirror_mode": {
    "name": "ipython",
    "version": 3
   },
   "file_extension": ".py",
   "mimetype": "text/x-python",
   "name": "python",
   "nbconvert_exporter": "python",
   "pygments_lexer": "ipython3",
   "version": "3.12.0"
  }
 },
 "nbformat": 4,
 "nbformat_minor": 4
}
